{
 "cells": [
  {
   "cell_type": "code",
   "execution_count": null,
   "id": "e8187111-51e0-4e2e-b374-a87db359b227",
   "metadata": {},
   "outputs": [],
   "source": []
  }
 ],
 "metadata": {
  "kernelspec": {
   "display_name": "",
   "name": ""
  },
  "language_info": {
   "name": ""
  }
 },
 "nbformat": 4,
 "nbformat_minor": 5
}
